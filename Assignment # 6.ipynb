{
 "cells": [
  {
   "cell_type": "markdown",
   "metadata": {},
   "source": [
    "# Question 1:\n",
    "### Define Object Oriented Programming Language?\n",
    ">An object-oriented programming language (OOPL) is a high-level programming language based on the object-oriented model. To perform object-oriented programming, one needs an object-oriented programming language.  Many modern programming languages are object-oriented, however some older programming languages, such as Pascal, do offer object-oriented versions. Examples of object-oriented programming languages include Java, C++ and Python."
   ]
  },
  {
   "cell_type": "markdown",
   "metadata": {},
   "source": [
    "# Question 2:\n",
    "### List down the Benefits of OOP?\n",
    "> Modularity for easier troubleshooting, <br>\n",
    "> Reuse of code through inheritance,<br>\n",
    "> Flexibility through polymorphism,<br>\n",
    "> Effective problem solving"
   ]
  },
  {
   "cell_type": "markdown",
   "metadata": {},
   "source": [
    "# Question 3:\n",
    "### Differentiate between function and method?\n",
    "#### Function:\n",
    "> Function is a piece of code that is not belong to any class or object.\n",
    "#### Method:\n",
    "> Methode is piece of code that belongs to an object or class or define within a class for behaviour of objects. <br>\n",
    "> Note: All methods work as functions but, functions are not like method"
   ]
  },
  {
   "cell_type": "markdown",
   "metadata": {},
   "source": [
    "# Question 4:\n",
    "### Define the following terms:\n",
    "1. Class\n",
    "    > A class is an entity that determines how an object will behave and what the object will contain. In other words, it is a blueprint or a set of instruction to build a specific type of object.\n",
    "2. Object\n",
    "    > An object is nothing but a self-contained component which consists of methods and properties to make a particular type of data useful.\n",
    "3. Attribute\n",
    "    > Store the information about instances of class, e.g.(name, color, age)\n",
    "4. Behavior\n",
    "    > A method defines the behavior of the objects that are created from the class.\n",
    "\n"
   ]
  },
  {
   "cell_type": "markdown",
   "metadata": {},
   "source": [
    "# Question 5:\n",
    "### Write a code in python in which create a class named it Car which have 5 attributes such like (model, color and name etc.) and 3 methods. And create 5 object instance from that class."
   ]
  },
  {
   "cell_type": "code",
   "execution_count": 14,
   "metadata": {},
   "outputs": [
    {
     "name": "stdout",
     "output_type": "stream",
     "text": [
      "Mileage is depends on Mileage: 20km per Liter\n"
     ]
    },
    {
     "ename": "TypeError",
     "evalue": "'str' object is not callable",
     "output_type": "error",
     "traceback": [
      "\u001b[1;31m---------------------------------------------------------------------------\u001b[0m",
      "\u001b[1;31mTypeError\u001b[0m                                 Traceback (most recent call last)",
      "\u001b[1;32m<ipython-input-14-dc80b610a760>\u001b[0m in \u001b[0;36m<module>\u001b[1;34m\u001b[0m\n\u001b[0;32m     22\u001b[0m \u001b[1;33m\u001b[0m\u001b[0m\n\u001b[0;32m     23\u001b[0m \u001b[0mbmw\u001b[0m\u001b[1;33m.\u001b[0m\u001b[0mMileage\u001b[0m\u001b[1;33m(\u001b[0m\u001b[1;34m'20km per Liter'\u001b[0m\u001b[1;33m)\u001b[0m\u001b[1;33m\u001b[0m\u001b[1;33m\u001b[0m\u001b[0m\n\u001b[1;32m---> 24\u001b[1;33m \u001b[0mbmw\u001b[0m\u001b[1;33m.\u001b[0m\u001b[0mprice\u001b[0m\u001b[1;33m(\u001b[0m\u001b[1;34m'$100000'\u001b[0m\u001b[1;33m)\u001b[0m\u001b[1;33m\u001b[0m\u001b[1;33m\u001b[0m\u001b[0m\n\u001b[0m",
      "\u001b[1;31mTypeError\u001b[0m: 'str' object is not callable"
     ]
    }
   ],
   "source": [
    "class Car():\n",
    "    def __init__(self, model, color, name, price, mileage):\n",
    "        self.model = model\n",
    "        self.color = color\n",
    "        self.name = name\n",
    "        self.price = price\n",
    "        self.mileage = mileage\n",
    "    def Mileage(self,newMileage):\n",
    "        self.mileage = newMileage\n",
    "        print(\"Mileage is depends on Mileage: \" + newMileage)\n",
    "    def acceleration():\n",
    "        print(\"Accelration is always.......\")\n",
    "    def price(self, newName):\n",
    "        self.price = newPrice\n",
    "        print(\"Price is :\" + name)\n",
    "        \n",
    "bmw = Car(2011, 'Red' , 'Every' , '$40000','20')\n",
    "toyota = Car(2011, 'Red' , 'Carolla' , '$40000','20')\n",
    "honda = Car(2011, 'Red' , 'Civic' , '$40000','20')\n",
    "suzuki = Car(2011, 'Red' , 'wagonR' , '$40000','20')\n",
    "farrari = Car(2011, 'Red' , 'F40' , '$40000','20')\n",
    "\n",
    "bmw.Mileage('20km per Liter')\n",
    "bmw.price('$100000')"
   ]
  },
  {
   "cell_type": "code",
   "execution_count": null,
   "metadata": {},
   "outputs": [],
   "source": []
  }
 ],
 "metadata": {
  "kernelspec": {
   "display_name": "Python 3",
   "language": "python",
   "name": "python3"
  },
  "language_info": {
   "codemirror_mode": {
    "name": "ipython",
    "version": 3
   },
   "file_extension": ".py",
   "mimetype": "text/x-python",
   "name": "python",
   "nbconvert_exporter": "python",
   "pygments_lexer": "ipython3",
   "version": "3.7.4"
  }
 },
 "nbformat": 4,
 "nbformat_minor": 2
}
