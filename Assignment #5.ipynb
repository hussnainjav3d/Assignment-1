{
 "cells": [
  {
   "cell_type": "markdown",
   "metadata": {},
   "source": [
    "# Question:1\n",
    "Write a Python function to calculate the factorial of a number (a non-negative\n",
    "integer). The function accepts the number as an argument."
   ]
  },
  {
   "cell_type": "code",
   "execution_count": 13,
   "metadata": {},
   "outputs": [
    {
     "name": "stdout",
     "output_type": "stream",
     "text": [
      "Enter A positive integar: 5\n",
      "The Factorial of num is:  120\n"
     ]
    }
   ],
   "source": [
    "num_ = int(input(\"Enter A positive integar: \"))\n",
    "\n",
    "def cal_fact(num_):\n",
    "    factorial = 1\n",
    "    i = 1\n",
    "    while i<=num_ :\n",
    "        factorial*=i\n",
    "        i+=1   \n",
    "    print(\"The Factorial of num is: \",factorial)\n",
    "\n",
    "cal_fact(num_)"
   ]
  },
  {
   "cell_type": "markdown",
   "metadata": {},
   "source": [
    "# Question:2\n",
    "Write a Python function that accepts a string and calculate the number of upper\n",
    "case letters and lower case letters."
   ]
  },
  {
   "cell_type": "code",
   "execution_count": 12,
   "metadata": {},
   "outputs": [
    {
     "name": "stdout",
     "output_type": "stream",
     "text": [
      "Enter The string: This Is MY Book\n",
      "The lower case letters:  7\n",
      "\n",
      "The Upper case letters:  5\n"
     ]
    }
   ],
   "source": [
    "my_string = input(\"Enter The string: \")\n",
    "def case_of_letters(my_string):\n",
    "    upper_case = 0\n",
    "    lower_case = 0\n",
    "    for a in my_string:\n",
    "        if(a.isupper()) == True:\n",
    "            upper_case+=1\n",
    "        elif(a.islower()):\n",
    "            lower_case+=1\n",
    "    print(\"The lower case letters: \",lower_case)\n",
    "    print(\"\\nThe Upper case letters: \",upper_case)\n",
    "\n",
    "case_of_letters(my_string)\n",
    "            \n",
    "    \n",
    "    "
   ]
  },
  {
   "cell_type": "markdown",
   "metadata": {},
   "source": [
    "# Question:3\n",
    "Write a Python function to print the even numbers from a given list."
   ]
  },
  {
   "cell_type": "code",
   "execution_count": 11,
   "metadata": {},
   "outputs": [
    {
     "name": "stdout",
     "output_type": "stream",
     "text": [
      "24\n",
      "12\n",
      "14\n",
      "2\n",
      "6\n",
      "98\n",
      "5468\n"
     ]
    }
   ],
   "source": [
    "list_ = [21,25,24,12,14,2,3,6,5,47,98,5468] \n",
    "\n",
    "def even_num(list_):\n",
    "    for a in list_:\n",
    "        if(a % 2 == 0):\n",
    "            print(a)\n",
    "              \n",
    "even_num(list_)         "
   ]
  },
  {
   "cell_type": "markdown",
   "metadata": {},
   "source": [
    "# Question # 4\n",
    "Write a Python function that checks whether a passed string is palindrome or not.\n",
    "\n"
   ]
  },
  {
   "cell_type": "code",
   "execution_count": 10,
   "metadata": {},
   "outputs": [
    {
     "name": "stdout",
     "output_type": "stream",
     "text": [
      "Enter the word: madam\n",
      "The String is  Palindrome\n"
     ]
    }
   ],
   "source": [
    "my_string = input(\"Enter the word: \")\n",
    "def is_palindrome(_string):\n",
    "    lf_ps = 0\n",
    "    rig_ps = len(_string) - 1\n",
    "\n",
    "    while rig_ps >= lf_ps:\n",
    "        if not _string[lf_ps] == _string[rig_ps]:\n",
    "            print(\"The String is not  Palindrome\")\n",
    "            lf_ps += 1\n",
    "            rig_ps -= 1\n",
    "            break\n",
    "        print(\"The String is  Palindrome\")\n",
    "        break\n",
    "is_palindrome(my_string)"
   ]
  },
  {
   "cell_type": "markdown",
   "metadata": {},
   "source": [
    "# Question:5\n",
    "Write a Python function that takes a number as a parameter and check the\n",
    "number is prime or not."
   ]
  },
  {
   "cell_type": "code",
   "execution_count": 9,
   "metadata": {},
   "outputs": [
    {
     "name": "stdout",
     "output_type": "stream",
     "text": [
      "Enetr Number: 11\n",
      "its prime \n"
     ]
    }
   ],
   "source": [
    "num = int(input(\"Enetr Number: \"))\n",
    "\n",
    "def prime_num(num):\n",
    "    if (num==1):\n",
    "        print(\"Its Prime Number\")\n",
    "    elif num == 2:\n",
    "        print(\"its prime Number\")\n",
    "    else:\n",
    "        for x in range (2,num):\n",
    "            if (num % x == 0):\n",
    "                print(\"Its not a prime Number\")\n",
    "                \n",
    "            print(\"its prime \")\n",
    "            break\n",
    "prime_num(num)"
   ]
  },
  {
   "cell_type": "markdown",
   "metadata": {},
   "source": [
    "# Question: 6\n",
    "Suppose a customer is shopping in a market and you need to print all the items\n",
    "which user bought from market.\n",
    "Write a function which accepts the multiple arguments of user shopping list and\n",
    "print all the items which user bought from market.\n"
   ]
  },
  {
   "cell_type": "code",
   "execution_count": 19,
   "metadata": {},
   "outputs": [
    {
     "name": "stdout",
     "output_type": "stream",
     "text": [
      "Name of Item: Soap\n",
      "Name of Item: Shampoo\n",
      "Name of Item: oil\n",
      "Name of Item: Fruits\n",
      "Name of Item: Jeans\n"
     ]
    }
   ],
   "source": [
    "\n",
    "\n",
    "def cust_purch(*items):\n",
    "    for item in items:\n",
    "        print(\"Name of Item:\",item)\n",
    "cust_purch('Soap', 'Shampoo', 'oil', 'Fruits', 'Jeans')"
   ]
  },
  {
   "cell_type": "code",
   "execution_count": null,
   "metadata": {},
   "outputs": [],
   "source": []
  }
 ],
 "metadata": {
  "kernelspec": {
   "display_name": "Python 3",
   "language": "python",
   "name": "python3"
  },
  "language_info": {
   "codemirror_mode": {
    "name": "ipython",
    "version": 3
   },
   "file_extension": ".py",
   "mimetype": "text/x-python",
   "name": "python",
   "nbconvert_exporter": "python",
   "pygments_lexer": "ipython3",
   "version": "3.7.4"
  }
 },
 "nbformat": 4,
 "nbformat_minor": 2
}
