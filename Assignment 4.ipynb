{
 "cells": [
  {
   "cell_type": "markdown",
   "metadata": {},
   "source": [
    "# Question1:\n",
    "Use a dictionary to store information about a person you know. Store their first name, last name, age, and the city in which they live. You should have keys such as first_name, last_name, age, and city. Print each piece of information stored in your dictionary. Add a new key value pair about qualification then update the qualification value to high academic level then delete it.\n"
   ]
  },
  {
   "cell_type": "code",
   "execution_count": 13,
   "metadata": {},
   "outputs": [
    {
     "name": "stdout",
     "output_type": "stream",
     "text": [
      "{'first_name': 'Hussnain', 'last_name': 'Javed', 'age': 25, 'city': 'Gujranwala'}\n",
      "\n",
      "After adding qualification \n",
      " \n",
      " {'first_name': 'Hussnain', 'last_name': 'Javed', 'age': 25, 'city': 'Gujranwala', 'qualification': 'Intermediate'}\n",
      "\n",
      "After updating qualification to higher level \n",
      " \n",
      " {'first_name': 'Hussnain', 'last_name': 'Javed', 'age': 25, 'city': 'Gujranwala', 'qualification': 'BSCS'}\n",
      "\n",
      "After deleing qualification \n",
      " \n",
      " {'first_name': 'Hussnain', 'last_name': 'Javed', 'age': 25, 'city': 'Gujranwala'}\n"
     ]
    }
   ],
   "source": [
    "person_info = {\n",
    "    \"first_name\" : \"Hussnain\",\n",
    "    \"last_name\"  : \"Javed\",\n",
    "    \"age\"        : 25,\n",
    "    \"city\"       : \"Gujranwala\"\n",
    "}\n",
    "print(person_info)\n",
    "\n",
    "person_info[\"qualification\"] = \"Intermediate\"\n",
    "print(\"\\nAfter adding qualification \\n \\n\",person_info)\n",
    "person_info[\"qualification\"] = \"BSCS\"\n",
    "print(\"\\nAfter updating qualification to higher level \\n \\n\",person_info)\n",
    "del person_info[\"qualification\"]\n",
    "print(\"\\nAfter deleing qualification \\n \\n\",person_info)"
   ]
  },
  {
   "cell_type": "markdown",
   "metadata": {},
   "source": [
    "# Question2:\n",
    "Make a dictionary called cities. Use the names of three cities as keys in your dictionary. Create a dictionary of information about each city and include the country that the city is in, its approximate population, and one fact about that city. The keys for each city’s dictionary should be something like country, population, and fact. Print the name of each city and all of the information you have stored about it.\n"
   ]
  },
  {
   "cell_type": "code",
   "execution_count": 15,
   "metadata": {
    "scrolled": true
   },
   "outputs": [
    {
     "name": "stdout",
     "output_type": "stream",
     "text": [
      "Karachi {'country': 'Pakistan', 'Population': '40 million', 'fact': 'Bussiness hub of Pakistan'}\n",
      "Paris {'country': 'France', 'Population': '4 million', 'fact': 'City of Romance'}\n",
      "London {'country': 'England', 'Population': '4 million', 'fact': 'City of Bridges'}\n"
     ]
    }
   ],
   "source": [
    "cities = {\n",
    "    \"Karachi\" :{ \n",
    "        \"country\" : \"Pakistan\",\n",
    "        \"Population\" : \"40 million\",\n",
    "        \"fact\" : \"Bussiness hub of Pakistan\"\n",
    "    },\n",
    "     \"Paris\" :{ \n",
    "        \"country\" : \"France\",\n",
    "        \"Population\" : \"4 million\",\n",
    "        \"fact\" : \"City of Romance\"\n",
    "     },\n",
    "      \"London\" :{ \n",
    "        \"country\" : \"England\",\n",
    "        \"Population\" : \"4 million\",\n",
    "        \"fact\" : \"City of Bridges\"\n",
    "     }\n",
    "}\n",
    "for x,y in cities.items():\n",
    "    print(x,y)"
   ]
  },
  {
   "cell_type": "markdown",
   "metadata": {},
   "source": [
    "# Question3:\n",
    "A movie theater charges different ticket prices depending on a person’s age. If a person is under the age of 3, the ticket is free; if they are between 3 and 12, the ticket is $10; and if they are over age 12, the ticket is $15. Write a loop in which you ask users their age, and then tell them the cost of their movie ticket.\n"
   ]
  },
  {
   "cell_type": "code",
   "execution_count": 2,
   "metadata": {},
   "outputs": [
    {
     "name": "stdout",
     "output_type": "stream",
     "text": [
      "How old are you?\n",
      "type 'exit' to exit2\n",
      "Your entry is free\n",
      "How old are you?\n",
      "type 'exit' to exit24\n",
      "ticket is for 15$\n",
      "How old are you?\n",
      "type 'exit' to exitexit\n"
     ]
    }
   ],
   "source": [
    "age_ = \"How old are you?\"\n",
    "age_ += \"\\ntype 'exit' to exit\"\n",
    "while True:\n",
    "    age = input(age_)\n",
    "    if age == 'exit':\n",
    "        break\n",
    "    age = int(age)\n",
    "    if age<3:\n",
    "        print(\"Your entry is free\")\n",
    "    elif age < 13:\n",
    "        print(\"Ticket is for 10$\")\n",
    "    else :\n",
    "        print(\"ticket is for 15$\")"
   ]
  },
  {
   "cell_type": "markdown",
   "metadata": {},
   "source": [
    "# Question4:\n",
    "Write a function called favorite_book() that accepts one parameter, title. The function should print a message, such as One of my favorite books is Alice in Wonderland. Call the function, making sure to include a book title as an argument in the function call.\n"
   ]
  },
  {
   "cell_type": "code",
   "execution_count": 11,
   "metadata": {},
   "outputs": [
    {
     "name": "stdout",
     "output_type": "stream",
     "text": [
      "I am Alone is one of my favorite books.\n"
     ]
    }
   ],
   "source": [
    "def favorite_book(title):\n",
    "    \n",
    "    print(title + \" is one of my favorite books.\")\n",
    "\n",
    "favorite_book('I am Alone')"
   ]
  },
  {
   "cell_type": "markdown",
   "metadata": {},
   "source": [
    "# Question # 5:\n",
    "Guess the number game\n",
    "Write a program which randomly generate a number between 1 to 30 and ask the user in input field to guess the correct number. Give three chances to user guess the number and also give hint to user if hidden number is greater or smaller than the number he given to input field.\n"
   ]
  },
  {
   "cell_type": "code",
   "execution_count": 20,
   "metadata": {},
   "outputs": [
    {
     "name": "stdout",
     "output_type": "stream",
     "text": [
      "----------------HINT----------------\n",
      "try a number between 5 and 10\n",
      "Enter your Guess: 8\n",
      "your guess is right \n",
      "\n",
      "You are the Winner\n"
     ]
    }
   ],
   "source": [
    "import random\n",
    "random=random.randint(1,30)\n",
    "print(\"----------------HINT----------------\")\n",
    "if random>= 1 and random < 5:\n",
    "    print(\"Try a number Between 1 and 5\")\n",
    "elif random>= 5 and random< 10:\n",
    "    print(\"try a number between 5 and 10\")\n",
    "elif random>= 10 and random< 15:\n",
    "    print(\"try a number between 10 and 15\")\n",
    "elif random>= 15 and random< 20:\n",
    "    print(\"try a number between 15 and 20\")\n",
    "elif random>= 20 and random< 25:\n",
    "    print(\"try a number between 20 and 25\")\n",
    "elif random>=25 and random<30:\n",
    "    print(\"try between 25 and 30\")\n",
    "for i in range(0,3):\n",
    "    num = int(input(\"Enter your Guess: \"))\n",
    "    if num < 1 or num > 30:\n",
    "            print(\"choose a number between 1 and 30\")\n",
    "    else:\n",
    "        if num == random:\n",
    "            print(\"your guess is right \\n\\nYou are the Winner\")\n",
    "            break\n",
    "        else:\n",
    "            print(\"your guess is wrong\")\n",
    "            print(\"----------------better luck next time :-)----------------\") "
   ]
  },
  {
   "cell_type": "code",
   "execution_count": null,
   "metadata": {},
   "outputs": [],
   "source": []
  }
 ],
 "metadata": {
  "kernelspec": {
   "display_name": "Python 3",
   "language": "python",
   "name": "python3"
  },
  "language_info": {
   "codemirror_mode": {
    "name": "ipython",
    "version": 3
   },
   "file_extension": ".py",
   "mimetype": "text/x-python",
   "name": "python",
   "nbconvert_exporter": "python",
   "pygments_lexer": "ipython3",
   "version": "3.7.4"
  }
 },
 "nbformat": 4,
 "nbformat_minor": 2
}
