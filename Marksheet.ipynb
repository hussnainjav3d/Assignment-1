{
 "cells": [
  {
   "cell_type": "code",
   "execution_count": 4,
   "metadata": {},
   "outputs": [
    {
     "name": "stdout",
     "output_type": "stream",
     "text": [
      "Enter the percentage of students:54\n",
      "Grade is C-\n"
     ]
    }
   ],
   "source": [
    "per = int(input(\"Enter the percentage of students:\"))\n",
    "if per >=85 and per<100 :\n",
    "    print(\"Grade is A+\")\n",
    "elif per >=80 and per < 85 :\n",
    "    print(\"Grade is A\")\n",
    "elif per >=75 and per < 80 :\n",
    "    print(\"Grade is B+\")\n",
    "elif per >=70 and per < 75:\n",
    "    print(\"grade is B-\")\n",
    "elif per >=65 and per < 70 :\n",
    "    print(\"Grade is B\")\n",
    "elif per >=60 and per < 65 :\n",
    "    print(\"Grade is C+\")\n",
    "elif per >=55 and per < 60 :\n",
    "    print(\"Grade is C\")\n",
    "elif per >=50 and per <55 :\n",
    "    print(\"Grade is C-\")\n",
    "elif per >=45 and per<50 :\n",
    "    print(\"Grade is D\")\n",
    "elif per >=0 and per < 45 :\n",
    "    print(\"Grade is F \")\n",
    "else :\n",
    "    print(\"you enter inappropriate %\")\n",
    "    "
   ]
  },
  {
   "cell_type": "code",
   "execution_count": null,
   "metadata": {},
   "outputs": [],
   "source": []
  },
  {
   "cell_type": "code",
   "execution_count": null,
   "metadata": {},
   "outputs": [],
   "source": []
  }
 ],
 "metadata": {
  "kernelspec": {
   "display_name": "Python 3",
   "language": "python",
   "name": "python3"
  },
  "language_info": {
   "codemirror_mode": {
    "name": "ipython",
    "version": 3
   },
   "file_extension": ".py",
   "mimetype": "text/x-python",
   "name": "python",
   "nbconvert_exporter": "python",
   "pygments_lexer": "ipython3",
   "version": "3.7.4"
  }
 },
 "nbformat": 4,
 "nbformat_minor": 2
}
