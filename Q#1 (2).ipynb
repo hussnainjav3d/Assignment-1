{
 "cells": [
  {
   "cell_type": "code",
   "execution_count": 27,
   "metadata": {},
   "outputs": [
    {
     "name": "stdout",
     "output_type": "stream",
     "text": [
      "Enter Marks in between 0-100 please\n",
      "Enter the marks of ENGLISH : 54\n",
      "Enter the marks of URDU : 69\n",
      "Enter the marks of MATHS : 62\n",
      "Enter the marks of CHEMISTRY : 45\n",
      "Enter the marks of PHYSICS : 54\n",
      "Grade is C\n"
     ]
    }
   ],
   "source": [
    "'''GETTING MARKS AS INPUT FROM USER'''\n",
    "print(\"Enter Marks in between 0-100 please\")\n",
    "e_mark = int(input(\"Enter the marks of ENGLISH : \"))\n",
    "u_mark = int(input(\"Enter the marks of URDU : \"))\n",
    "m_mark = int(input(\"Enter the marks of MATHS : \"))\n",
    "c_mark = int(input(\"Enter the marks of CHEMISTRY : \"))\n",
    "p_mark = int(input(\"Enter the marks of PHYSICS : \"))\n",
    "total_marks = 500\n",
    "'''Total marks of subject'''\n",
    "obt_mark = e_mark+u_mark+m_mark+c_mark+p_mark\n",
    "per = (obt_mark/total_marks)*100\n",
    "per\n",
    "if per >=80 and per < 100:\n",
    "    print(\"Grade is A+\")\n",
    "elif per >=70 and per < 80:\n",
    "    print(\"Grade is A\")\n",
    "elif per >=60 and per < 70:\n",
    "    print(\"Grade is B\")\n",
    "elif per >=50 and per < 60:\n",
    "    print(\"Grade is C\")\n",
    "elif per >=40 and per < 50:\n",
    "    print(\"Grade is D\")\n",
    "elif per >=0 and per < 40:\n",
    "    print(\"Grade is F\")\n",
    "    "
   ]
  },
  {
   "cell_type": "code",
   "execution_count": null,
   "metadata": {},
   "outputs": [],
   "source": []
  }
 ],
 "metadata": {
  "kernelspec": {
   "display_name": "Python 3",
   "language": "python",
   "name": "python3"
  },
  "language_info": {
   "codemirror_mode": {
    "name": "ipython",
    "version": 3
   },
   "file_extension": ".py",
   "mimetype": "text/x-python",
   "name": "python",
   "nbconvert_exporter": "python",
   "pygments_lexer": "ipython3",
   "version": "3.7.4"
  }
 },
 "nbformat": 4,
 "nbformat_minor": 2
}
