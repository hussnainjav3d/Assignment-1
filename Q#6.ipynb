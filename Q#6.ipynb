{
 "cells": [
  {
   "cell_type": "code",
   "execution_count": 4,
   "metadata": {},
   "outputs": [
    {
     "name": "stdout",
     "output_type": "stream",
     "text": [
      "Eneter !st number To add25\n",
      "Eneter 2nd number To add25\n",
      "The Addition of two numbers is 50\n"
     ]
    }
   ],
   "source": [
    "first_num = int(input(\"Eneter !st number To add\"))\n",
    "second_num = int(input(\"Eneter 2nd number To add\"))\n",
    "add_num = first_num+second_num\n",
    "print(\"The Addition of two numbers is\", add_num)"
   ]
  },
  {
   "cell_type": "code",
   "execution_count": null,
   "metadata": {},
   "outputs": [],
   "source": []
  }
 ],
 "metadata": {
  "kernelspec": {
   "display_name": "Python 3",
   "language": "python",
   "name": "python3"
  },
  "language_info": {
   "codemirror_mode": {
    "name": "ipython",
    "version": 3
   },
   "file_extension": ".py",
   "mimetype": "text/x-python",
   "name": "python",
   "nbconvert_exporter": "python",
   "pygments_lexer": "ipython3",
   "version": "3.7.4"
  }
 },
 "nbformat": 4,
 "nbformat_minor": 2
}
