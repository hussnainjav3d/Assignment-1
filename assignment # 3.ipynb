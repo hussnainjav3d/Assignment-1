{
 "cells": [
  {
   "cell_type": "code",
   "execution_count": 12,
   "metadata": {},
   "outputs": [
    {
     "name": "stdout",
     "output_type": "stream",
     "text": [
      "Enter fisrt number:2\n",
      "Enter operator +\n",
      "Enter second number:2\n",
      "Ther Answer is:  4\n"
     ]
    }
   ],
   "source": [
    "#Make a calculator using Python with addition , subtraction , multiplication ,division and power.\n",
    "value1 = int(input(\"Enter fisrt number:\"))\n",
    "operator = input(\"Enter operator \")\n",
    "value2 = int(input(\"Enter second number:\"))\n",
    "\n",
    "if operator == '+':\n",
    "    answer = value1+value2\n",
    "    print(\"Ther Answer is: \",answer )\n",
    "elif operator == '-':\n",
    "    answer = value1-value2\n",
    "    print(\"Ther Answer is: \",answer )\n",
    "elif operator == '*':\n",
    "    answer = value1*value2\n",
    "    print(\"Ther Answer is: \",answer )\n",
    "elif operator == '/':\n",
    "    answer = value1/value2\n",
    "    print(\"Ther Answer is: \",answer )\n",
    "elif operator == '^':\n",
    "    answer = value1**value2\n",
    "    print(\"Ther Answer is: \",answer )\n",
    "else:\n",
    "    print(\"Enter correct operator\")"
   ]
  },
  {
   "cell_type": "code",
   "execution_count": 22,
   "metadata": {},
   "outputs": [
    {
     "name": "stdout",
     "output_type": "stream",
     "text": [
      "There is an integer\n"
     ]
    }
   ],
   "source": [
    "#Write a program to check if there is any numeric value in list using for loop\n",
    "my_list = [\"Hello\", 1,2656,425,\"My Country\"]\n",
    "for x in my_list:\n",
    "    if x == 1:\n",
    "        print(\"There is an integer\")\n",
    "        break\n",
    "else:\n",
    "    print(\"Wrong\")\n",
    "        \n",
    "        "
   ]
  },
  {
   "cell_type": "code",
   "execution_count": 40,
   "metadata": {},
   "outputs": [
    {
     "name": "stdout",
     "output_type": "stream",
     "text": [
      "388\n"
     ]
    }
   ],
   "source": [
    "# Write a Python program to sum all the numeric items in a dictionary\n",
    "val1 = 0\n",
    "my_dic = {\n",
    "    \"first\" : 35,\n",
    "    \"second\" : 351,\n",
    "    \"third\" : 2\n",
    "}\n",
    "for val in my_dic.values():\n",
    "    val1 +=val\n",
    "print(val1) \n"
   ]
  },
  {
   "cell_type": "code",
   "execution_count": 42,
   "metadata": {},
   "outputs": [
    {
     "name": "stdout",
     "output_type": "stream",
     "text": [
      "{'name': 'Hussnain', 'Age': '25', 'Qualification': 'BSCS'}\n",
      "{'name': 'Hussnain', 'Age': '25', 'Qualification': 'BSCS', 'Address': 'Gujranwala'}\n"
     ]
    }
   ],
   "source": [
    "#Write a Python script to add a key to a dictionary\n",
    "my_dic2 = {\n",
    "    'name' : 'Hussnain',\n",
    "    'Age' : '25',\n",
    "    'Qualification' : 'BSCS'\n",
    "}\n",
    "print(my_dic2) #before add new key\n",
    "\n",
    "my_dic2['Address'] = 'Gujranwala'\n",
    "print(my_dic2)"
   ]
  },
  {
   "cell_type": "code",
   "execution_count": 51,
   "metadata": {},
   "outputs": [
    {
     "name": "stdout",
     "output_type": "stream",
     "text": [
      "Enetr Key to check: Name\n",
      "Key is present in the dictionary\n"
     ]
    }
   ],
   "source": [
    "#Write a Python script to check if a given key already exists in a dictionary\n",
    "key = input(\"Enetr Key to check: \")\n",
    "d = {'Name': 'Hussnain','Last name': 'Javed', 'City' : 'gujranwala'\n",
    "     }\n",
    "if key in d:\n",
    "    print('Key is present in the dictionary')\n",
    "else:\n",
    "    print('Key is not present in the dictionary')"
   ]
  },
  {
   "cell_type": "code",
   "execution_count": null,
   "metadata": {},
   "outputs": [],
   "source": [
    "#Write a program to identify duplicate values from list\n"
   ]
  },
  {
   "cell_type": "code",
   "execution_count": null,
   "metadata": {},
   "outputs": [],
   "source": []
  }
 ],
 "metadata": {
  "kernelspec": {
   "display_name": "Python 3",
   "language": "python",
   "name": "python3"
  },
  "language_info": {
   "codemirror_mode": {
    "name": "ipython",
    "version": 3
   },
   "file_extension": ".py",
   "mimetype": "text/x-python",
   "name": "python",
   "nbconvert_exporter": "python",
   "pygments_lexer": "ipython3",
   "version": "3.7.4"
  }
 },
 "nbformat": 4,
 "nbformat_minor": 2
}
